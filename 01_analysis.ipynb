{
 "cells": [
  {
   "cell_type": "code",
   "execution_count": 5,
   "metadata": {},
   "outputs": [],
   "source": [
    "from src.saving_plan import (\n",
    "    SavingPlan,\n",
    "    get_saving_plans,\n",
    "    get_time_periods,\n",
    "    simulate,\n",
    "    write_simulation_result,\n",
    ")\n",
    "from src.visualize import plot_total_worth\n",
    "import datetime\n",
    "import numpy as np\n",
    "import polars as pl\n",
    "import plotly.express as px\n",
    "from collections import namedtuple\n",
    "import plotly.graph_objects as go\n",
    "from datetime import date\n",
    "\n",
    "import plotly.io as pio\n",
    "\n",
    "template = \"plotly_dark\"\n",
    "\n",
    "pio.templates.default = template\n",
    "\n",
    "custom_template = {\n",
    "    # \"layout\": {\"colorway\": colors},\n",
    "    \"layout\": {\"bargap\": 0},\n",
    "    \"data\": {\n",
    "        \"histogram\": [{\"marker\": {\"line\": {\"color\": \"#252525\", \"width\": 1}}}],\n",
    "        \"bar\": [{\"marker\": {\"line\": {\"color\": \"#252525\", \"width\": 1}}}],\n",
    "    },\n",
    "}\n",
    "\n",
    "pio.templates[template].update(custom_template);\n"
   ]
  },
  {
   "cell_type": "code",
   "execution_count": 6,
   "metadata": {},
   "outputs": [],
   "source": [
    "# Read the MSCI World historical data\n",
    "df = pl.read_parquet(\"data/msci_world_index.parquet\").lazy()"
   ]
  },
  {
   "cell_type": "markdown",
   "metadata": {},
   "source": [
    "Let`s check the full available time range. We can se what would had happened if we had started the saving plan back to 1972, wiht 10$ per month."
   ]
  },
  {
   "cell_type": "code",
   "execution_count": 7,
   "metadata": {},
   "outputs": [
    {
     "data": {
      "application/vnd.plotly.v1+json": {
       "config": {
        "plotlyServerURL": "https://plot.ly"
       },
       "data": [
        {
         "name": "Total Worth",
         "type": "bar",
         "x": [
          1,
          2,
          3,
          4,
          5,
          6,
          7,
          8,
          9,
          10,
          11,
          12,
          13,
          14,
          15,
          16,
          17,
          18,
          19,
          20,
          21,
          22,
          23,
          24,
          25,
          26,
          27,
          28,
          29,
          30,
          31
         ],
         "y": [
          64017.16028500886,
          62743.75575320168,
          60786.17596681836,
          60788.2828708056,
          60784.99746991873,
          61472.07449701416,
          61304.700240312784,
          62294.81502364622,
          62644.27591783765,
          62584.394773886175,
          62568.838441830776,
          62563.70381717544,
          63578.36592649187,
          63942.03929458259,
          64789.538786405,
          65089.82428246501,
          65679.17950936829,
          65660.41629205813,
          65670.87242379627,
          65622.92304534478,
          65902.35569258114,
          65497.96736255751,
          66279.71522149601,
          66119.64851154413,
          66076.87606127287,
          66067.75449042785,
          66179.89197951726,
          65864.83755605167,
          65834.54941945574,
          66332.92091580336,
          64674.89162878856
         ]
        },
        {
         "marker": {
          "color": "#7209b7"
         },
         "name": "Best Day",
         "type": "bar",
         "x": [
          30
         ],
         "y": [
          66332.92091580336
         ]
        },
        {
         "marker": {
          "color": "#ffb703"
         },
         "name": "Worst Day",
         "type": "bar",
         "x": [
          5
         ],
         "y": [
          60784.99746991873
         ]
        }
       ],
       "layout": {
        "annotations": [
         {
          "showarrow": false,
          "text": "Max Total Worth: 66332.92",
          "x": 1,
          "xanchor": "right",
          "xref": "x domain",
          "y": 66332.92091580336,
          "yanchor": "top",
          "yref": "y"
         },
         {
          "showarrow": false,
          "text": "Min Total Worth: 60785.00",
          "x": 1,
          "xanchor": "right",
          "xref": "x domain",
          "y": 60784.99746991873,
          "yanchor": "bottom",
          "yref": "y"
         }
        ],
        "barmode": "overlay",
        "height": 500,
        "shapes": [
         {
          "line": {
           "color": "red",
           "dash": "dash"
          },
          "type": "line",
          "x0": 0,
          "x1": 1,
          "xref": "x domain",
          "y0": 66332.92091580336,
          "y1": 66332.92091580336,
          "yref": "y"
         },
         {
          "line": {
           "color": "yellow",
           "dash": "dash"
          },
          "type": "line",
          "x0": 0,
          "x1": 1,
          "xref": "x domain",
          "y0": 60784.99746991873,
          "y1": 60784.99746991873,
          "yref": "y"
         }
        ],
        "template": {
         "data": {
          "bar": [
           {
            "error_x": {
             "color": "#f2f5fa"
            },
            "error_y": {
             "color": "#f2f5fa"
            },
            "marker": {
             "line": {
              "color": "#252525",
              "width": 1
             },
             "pattern": {
              "fillmode": "overlay",
              "size": 10,
              "solidity": 0.2
             }
            },
            "type": "bar"
           }
          ],
          "barpolar": [
           {
            "marker": {
             "line": {
              "color": "rgb(17,17,17)",
              "width": 0.5
             },
             "pattern": {
              "fillmode": "overlay",
              "size": 10,
              "solidity": 0.2
             }
            },
            "type": "barpolar"
           }
          ],
          "carpet": [
           {
            "aaxis": {
             "endlinecolor": "#A2B1C6",
             "gridcolor": "#506784",
             "linecolor": "#506784",
             "minorgridcolor": "#506784",
             "startlinecolor": "#A2B1C6"
            },
            "baxis": {
             "endlinecolor": "#A2B1C6",
             "gridcolor": "#506784",
             "linecolor": "#506784",
             "minorgridcolor": "#506784",
             "startlinecolor": "#A2B1C6"
            },
            "type": "carpet"
           }
          ],
          "choropleth": [
           {
            "colorbar": {
             "outlinewidth": 0,
             "ticks": ""
            },
            "type": "choropleth"
           }
          ],
          "contour": [
           {
            "colorbar": {
             "outlinewidth": 0,
             "ticks": ""
            },
            "colorscale": [
             [
              0,
              "#0d0887"
             ],
             [
              0.1111111111111111,
              "#46039f"
             ],
             [
              0.2222222222222222,
              "#7201a8"
             ],
             [
              0.3333333333333333,
              "#9c179e"
             ],
             [
              0.4444444444444444,
              "#bd3786"
             ],
             [
              0.5555555555555556,
              "#d8576b"
             ],
             [
              0.6666666666666666,
              "#ed7953"
             ],
             [
              0.7777777777777778,
              "#fb9f3a"
             ],
             [
              0.8888888888888888,
              "#fdca26"
             ],
             [
              1,
              "#f0f921"
             ]
            ],
            "type": "contour"
           }
          ],
          "contourcarpet": [
           {
            "colorbar": {
             "outlinewidth": 0,
             "ticks": ""
            },
            "type": "contourcarpet"
           }
          ],
          "heatmap": [
           {
            "colorbar": {
             "outlinewidth": 0,
             "ticks": ""
            },
            "colorscale": [
             [
              0,
              "#0d0887"
             ],
             [
              0.1111111111111111,
              "#46039f"
             ],
             [
              0.2222222222222222,
              "#7201a8"
             ],
             [
              0.3333333333333333,
              "#9c179e"
             ],
             [
              0.4444444444444444,
              "#bd3786"
             ],
             [
              0.5555555555555556,
              "#d8576b"
             ],
             [
              0.6666666666666666,
              "#ed7953"
             ],
             [
              0.7777777777777778,
              "#fb9f3a"
             ],
             [
              0.8888888888888888,
              "#fdca26"
             ],
             [
              1,
              "#f0f921"
             ]
            ],
            "type": "heatmap"
           }
          ],
          "heatmapgl": [
           {
            "colorbar": {
             "outlinewidth": 0,
             "ticks": ""
            },
            "colorscale": [
             [
              0,
              "#0d0887"
             ],
             [
              0.1111111111111111,
              "#46039f"
             ],
             [
              0.2222222222222222,
              "#7201a8"
             ],
             [
              0.3333333333333333,
              "#9c179e"
             ],
             [
              0.4444444444444444,
              "#bd3786"
             ],
             [
              0.5555555555555556,
              "#d8576b"
             ],
             [
              0.6666666666666666,
              "#ed7953"
             ],
             [
              0.7777777777777778,
              "#fb9f3a"
             ],
             [
              0.8888888888888888,
              "#fdca26"
             ],
             [
              1,
              "#f0f921"
             ]
            ],
            "type": "heatmapgl"
           }
          ],
          "histogram": [
           {
            "marker": {
             "line": {
              "color": "#252525",
              "width": 1
             },
             "pattern": {
              "fillmode": "overlay",
              "size": 10,
              "solidity": 0.2
             }
            },
            "type": "histogram"
           }
          ],
          "histogram2d": [
           {
            "colorbar": {
             "outlinewidth": 0,
             "ticks": ""
            },
            "colorscale": [
             [
              0,
              "#0d0887"
             ],
             [
              0.1111111111111111,
              "#46039f"
             ],
             [
              0.2222222222222222,
              "#7201a8"
             ],
             [
              0.3333333333333333,
              "#9c179e"
             ],
             [
              0.4444444444444444,
              "#bd3786"
             ],
             [
              0.5555555555555556,
              "#d8576b"
             ],
             [
              0.6666666666666666,
              "#ed7953"
             ],
             [
              0.7777777777777778,
              "#fb9f3a"
             ],
             [
              0.8888888888888888,
              "#fdca26"
             ],
             [
              1,
              "#f0f921"
             ]
            ],
            "type": "histogram2d"
           }
          ],
          "histogram2dcontour": [
           {
            "colorbar": {
             "outlinewidth": 0,
             "ticks": ""
            },
            "colorscale": [
             [
              0,
              "#0d0887"
             ],
             [
              0.1111111111111111,
              "#46039f"
             ],
             [
              0.2222222222222222,
              "#7201a8"
             ],
             [
              0.3333333333333333,
              "#9c179e"
             ],
             [
              0.4444444444444444,
              "#bd3786"
             ],
             [
              0.5555555555555556,
              "#d8576b"
             ],
             [
              0.6666666666666666,
              "#ed7953"
             ],
             [
              0.7777777777777778,
              "#fb9f3a"
             ],
             [
              0.8888888888888888,
              "#fdca26"
             ],
             [
              1,
              "#f0f921"
             ]
            ],
            "type": "histogram2dcontour"
           }
          ],
          "mesh3d": [
           {
            "colorbar": {
             "outlinewidth": 0,
             "ticks": ""
            },
            "type": "mesh3d"
           }
          ],
          "parcoords": [
           {
            "line": {
             "colorbar": {
              "outlinewidth": 0,
              "ticks": ""
             }
            },
            "type": "parcoords"
           }
          ],
          "pie": [
           {
            "automargin": true,
            "type": "pie"
           }
          ],
          "scatter": [
           {
            "marker": {
             "line": {
              "color": "#283442"
             }
            },
            "type": "scatter"
           }
          ],
          "scatter3d": [
           {
            "line": {
             "colorbar": {
              "outlinewidth": 0,
              "ticks": ""
             }
            },
            "marker": {
             "colorbar": {
              "outlinewidth": 0,
              "ticks": ""
             }
            },
            "type": "scatter3d"
           }
          ],
          "scattercarpet": [
           {
            "marker": {
             "colorbar": {
              "outlinewidth": 0,
              "ticks": ""
             }
            },
            "type": "scattercarpet"
           }
          ],
          "scattergeo": [
           {
            "marker": {
             "colorbar": {
              "outlinewidth": 0,
              "ticks": ""
             }
            },
            "type": "scattergeo"
           }
          ],
          "scattergl": [
           {
            "marker": {
             "line": {
              "color": "#283442"
             }
            },
            "type": "scattergl"
           }
          ],
          "scattermapbox": [
           {
            "marker": {
             "colorbar": {
              "outlinewidth": 0,
              "ticks": ""
             }
            },
            "type": "scattermapbox"
           }
          ],
          "scatterpolar": [
           {
            "marker": {
             "colorbar": {
              "outlinewidth": 0,
              "ticks": ""
             }
            },
            "type": "scatterpolar"
           }
          ],
          "scatterpolargl": [
           {
            "marker": {
             "colorbar": {
              "outlinewidth": 0,
              "ticks": ""
             }
            },
            "type": "scatterpolargl"
           }
          ],
          "scatterternary": [
           {
            "marker": {
             "colorbar": {
              "outlinewidth": 0,
              "ticks": ""
             }
            },
            "type": "scatterternary"
           }
          ],
          "surface": [
           {
            "colorbar": {
             "outlinewidth": 0,
             "ticks": ""
            },
            "colorscale": [
             [
              0,
              "#0d0887"
             ],
             [
              0.1111111111111111,
              "#46039f"
             ],
             [
              0.2222222222222222,
              "#7201a8"
             ],
             [
              0.3333333333333333,
              "#9c179e"
             ],
             [
              0.4444444444444444,
              "#bd3786"
             ],
             [
              0.5555555555555556,
              "#d8576b"
             ],
             [
              0.6666666666666666,
              "#ed7953"
             ],
             [
              0.7777777777777778,
              "#fb9f3a"
             ],
             [
              0.8888888888888888,
              "#fdca26"
             ],
             [
              1,
              "#f0f921"
             ]
            ],
            "type": "surface"
           }
          ],
          "table": [
           {
            "cells": {
             "fill": {
              "color": "#506784"
             },
             "line": {
              "color": "rgb(17,17,17)"
             }
            },
            "header": {
             "fill": {
              "color": "#2a3f5f"
             },
             "line": {
              "color": "rgb(17,17,17)"
             }
            },
            "type": "table"
           }
          ]
         },
         "layout": {
          "annotationdefaults": {
           "arrowcolor": "#f2f5fa",
           "arrowhead": 0,
           "arrowwidth": 1
          },
          "autotypenumbers": "strict",
          "bargap": 0,
          "coloraxis": {
           "colorbar": {
            "outlinewidth": 0,
            "ticks": ""
           }
          },
          "colorscale": {
           "diverging": [
            [
             0,
             "#8e0152"
            ],
            [
             0.1,
             "#c51b7d"
            ],
            [
             0.2,
             "#de77ae"
            ],
            [
             0.3,
             "#f1b6da"
            ],
            [
             0.4,
             "#fde0ef"
            ],
            [
             0.5,
             "#f7f7f7"
            ],
            [
             0.6,
             "#e6f5d0"
            ],
            [
             0.7,
             "#b8e186"
            ],
            [
             0.8,
             "#7fbc41"
            ],
            [
             0.9,
             "#4d9221"
            ],
            [
             1,
             "#276419"
            ]
           ],
           "sequential": [
            [
             0,
             "#0d0887"
            ],
            [
             0.1111111111111111,
             "#46039f"
            ],
            [
             0.2222222222222222,
             "#7201a8"
            ],
            [
             0.3333333333333333,
             "#9c179e"
            ],
            [
             0.4444444444444444,
             "#bd3786"
            ],
            [
             0.5555555555555556,
             "#d8576b"
            ],
            [
             0.6666666666666666,
             "#ed7953"
            ],
            [
             0.7777777777777778,
             "#fb9f3a"
            ],
            [
             0.8888888888888888,
             "#fdca26"
            ],
            [
             1,
             "#f0f921"
            ]
           ],
           "sequentialminus": [
            [
             0,
             "#0d0887"
            ],
            [
             0.1111111111111111,
             "#46039f"
            ],
            [
             0.2222222222222222,
             "#7201a8"
            ],
            [
             0.3333333333333333,
             "#9c179e"
            ],
            [
             0.4444444444444444,
             "#bd3786"
            ],
            [
             0.5555555555555556,
             "#d8576b"
            ],
            [
             0.6666666666666666,
             "#ed7953"
            ],
            [
             0.7777777777777778,
             "#fb9f3a"
            ],
            [
             0.8888888888888888,
             "#fdca26"
            ],
            [
             1,
             "#f0f921"
            ]
           ]
          },
          "colorway": [
           "#219ebc",
           "#ffb703",
           "#7209b7",
           "#023097",
           "#f72585",
           "#8ecae6",
           "#fb8500",
           "#3a0ca3",
           "#4361ee",
           "#4cc9f0"
          ],
          "font": {
           "color": "#f2f5fa"
          },
          "geo": {
           "bgcolor": "rgb(17,17,17)",
           "lakecolor": "rgb(17,17,17)",
           "landcolor": "rgb(17,17,17)",
           "showlakes": true,
           "showland": true,
           "subunitcolor": "#506784"
          },
          "hoverlabel": {
           "align": "left"
          },
          "hovermode": "closest",
          "mapbox": {
           "style": "dark"
          },
          "paper_bgcolor": "rgb(17,17,17)",
          "plot_bgcolor": "rgb(17,17,17)",
          "polar": {
           "angularaxis": {
            "gridcolor": "#506784",
            "linecolor": "#506784",
            "ticks": ""
           },
           "bgcolor": "rgb(17,17,17)",
           "radialaxis": {
            "gridcolor": "#506784",
            "linecolor": "#506784",
            "ticks": ""
           }
          },
          "scene": {
           "xaxis": {
            "backgroundcolor": "rgb(17,17,17)",
            "gridcolor": "#506784",
            "gridwidth": 2,
            "linecolor": "#506784",
            "showbackground": true,
            "ticks": "",
            "zerolinecolor": "#C8D4E3"
           },
           "yaxis": {
            "backgroundcolor": "rgb(17,17,17)",
            "gridcolor": "#506784",
            "gridwidth": 2,
            "linecolor": "#506784",
            "showbackground": true,
            "ticks": "",
            "zerolinecolor": "#C8D4E3"
           },
           "zaxis": {
            "backgroundcolor": "rgb(17,17,17)",
            "gridcolor": "#506784",
            "gridwidth": 2,
            "linecolor": "#506784",
            "showbackground": true,
            "ticks": "",
            "zerolinecolor": "#C8D4E3"
           }
          },
          "shapedefaults": {
           "line": {
            "color": "#f2f5fa"
           }
          },
          "sliderdefaults": {
           "bgcolor": "#C8D4E3",
           "bordercolor": "rgb(17,17,17)",
           "borderwidth": 1,
           "tickwidth": 0
          },
          "ternary": {
           "aaxis": {
            "gridcolor": "#506784",
            "linecolor": "#506784",
            "ticks": ""
           },
           "baxis": {
            "gridcolor": "#506784",
            "linecolor": "#506784",
            "ticks": ""
           },
           "bgcolor": "rgb(17,17,17)",
           "caxis": {
            "gridcolor": "#506784",
            "linecolor": "#506784",
            "ticks": ""
           }
          },
          "title": {
           "x": 0.05
          },
          "updatemenudefaults": {
           "bgcolor": "#506784",
           "borderwidth": 0
          },
          "xaxis": {
           "automargin": true,
           "gridcolor": "#283442",
           "linecolor": "#506784",
           "ticks": "",
           "title": {
            "standoff": 15
           },
           "zerolinecolor": "#283442",
           "zerolinewidth": 2
          },
          "yaxis": {
           "automargin": true,
           "gridcolor": "#283442",
           "linecolor": "#506784",
           "ticks": "",
           "title": {
            "standoff": 15
           },
           "zerolinecolor": "#283442",
           "zerolinewidth": 2
          }
         }
        },
        "title": {
         "text": "Saving plan with 10$ (01/01/1972 - 31/08/2024)<br>Max diff: 9.1%"
        },
        "width": 1000,
        "xaxis": {
         "tickmode": "array",
         "tickvals": [
          1,
          2,
          3,
          4,
          5,
          6,
          7,
          8,
          9,
          10,
          11,
          12,
          13,
          14,
          15,
          16,
          17,
          18,
          19,
          20,
          21,
          22,
          23,
          24,
          25,
          26,
          27,
          28,
          29,
          30,
          31
         ],
         "title": {
          "text": "Day of the Month"
         }
        },
        "yaxis": {
         "range": [
          60298.71749015938,
          66465.58675763497
         ],
         "tickformat": "$,.0f",
         "title": {
          "text": "Total Worth in USD"
         }
        }
       }
      }
     },
     "metadata": {},
     "output_type": "display_data"
    }
   ],
   "source": [
    "fig = plot_total_worth(\n",
    "    df=df,\n",
    "    invest_amount=10,\n",
    "    period=(date(1972,1,1), date(2024,8,31)),\n",
    "    title=\"Saving plan with 10$\"\n",
    ")\n",
    "fig.show()"
   ]
  },
  {
   "cell_type": "code",
   "execution_count": 4,
   "metadata": {},
   "outputs": [],
   "source": [
    "fig.update_layout(autosize=True).write_html(\"test.html\", include_plotlyjs=\"cdn\", full_html=False)"
   ]
  },
  {
   "cell_type": "markdown",
   "metadata": {},
   "source": [
    "|test|picture|\n",
    "|---|---|\n",
    "||![](assets/monthly_diff_dist.png)|"
   ]
  },
  {
   "cell_type": "markdown",
   "metadata": {},
   "source": []
  },
  {
   "cell_type": "markdown",
   "metadata": {},
   "source": [
    "# Checking multiple periods"
   ]
  },
  {
   "cell_type": "code",
   "execution_count": 6,
   "metadata": {},
   "outputs": [],
   "source": [
    "period1 = (date(1972,1,1), date(2024,8,31))\n",
    "period2 = (date(1980,5,1), date(1985,5,31))\n",
    "period3 = (date(1990,3,1), date(2005,3,31))\n",
    "period4 = (date(2000,10,1), date(2015,10,30))\n",
    "period5 = (date(2010,1,1), date(2024,8,31))"
   ]
  },
  {
   "cell_type": "markdown",
   "metadata": {},
   "source": [
    "## Period 1"
   ]
  },
  {
   "cell_type": "code",
   "execution_count": null,
   "metadata": {},
   "outputs": [],
   "source": [
    "fig = plot_total_worth(\n",
    "    df=df,\n",
    "    invest_amount=10,\n",
    "    period=(date(1972,1,1), date(2024,8,31)),\n",
    "    title=\"Saving plan with 10$\"\n",
    ")\n",
    "fig.show()"
   ]
  },
  {
   "cell_type": "code",
   "execution_count": 8,
   "metadata": {},
   "outputs": [],
   "source": [
    "fig.write_image(\"assets/saving_plan_period_1.png\")"
   ]
  },
  {
   "cell_type": "markdown",
   "metadata": {},
   "source": [
    "## Period 2 "
   ]
  },
  {
   "cell_type": "code",
   "execution_count": null,
   "metadata": {},
   "outputs": [],
   "source": [
    "fig = plot_total_worth(\n",
    "    df=df,\n",
    "    invest_amount=10,\n",
    "    period=period2,\n",
    "    title=\"Saving plan with 10$\"\n",
    ")\n",
    "fig.show()"
   ]
  },
  {
   "cell_type": "code",
   "execution_count": 10,
   "metadata": {},
   "outputs": [],
   "source": [
    "fig.write_image(\"assets/saving_plan_period_2.png\")"
   ]
  },
  {
   "cell_type": "markdown",
   "metadata": {},
   "source": [
    "## Period 3"
   ]
  },
  {
   "cell_type": "code",
   "execution_count": null,
   "metadata": {},
   "outputs": [],
   "source": [
    "fig = plot_total_worth(\n",
    "    df=df,\n",
    "    invest_amount=10,\n",
    "    period=period3,\n",
    "    title=\"Saving plan with 10$\"\n",
    ")\n",
    "fig.show()"
   ]
  },
  {
   "cell_type": "code",
   "execution_count": 12,
   "metadata": {},
   "outputs": [],
   "source": [
    "fig.write_image(\"assets/saving_plan_period_3.png\")"
   ]
  },
  {
   "cell_type": "markdown",
   "metadata": {},
   "source": [
    "## Period 4"
   ]
  },
  {
   "cell_type": "code",
   "execution_count": null,
   "metadata": {},
   "outputs": [],
   "source": [
    "fig = plot_total_worth(\n",
    "    df=df,\n",
    "    invest_amount=10,\n",
    "    period=period4,\n",
    "    title=\"Saving plan with 10$\"\n",
    ")\n",
    "fig.show()"
   ]
  },
  {
   "cell_type": "code",
   "execution_count": 14,
   "metadata": {},
   "outputs": [],
   "source": [
    "fig.write_image(\"assets/saving_plan_period_4.png\")"
   ]
  },
  {
   "cell_type": "markdown",
   "metadata": {},
   "source": [
    "## Period 5"
   ]
  },
  {
   "cell_type": "code",
   "execution_count": null,
   "metadata": {},
   "outputs": [],
   "source": [
    "fig = plot_total_worth(\n",
    "    df=df,\n",
    "    invest_amount=10,\n",
    "    period=period5,\n",
    "    title=\"Saving plan with 10$\"\n",
    ")\n",
    "fig.show()"
   ]
  },
  {
   "cell_type": "code",
   "execution_count": 16,
   "metadata": {},
   "outputs": [],
   "source": [
    "fig.write_image(\"assets/saving_plan_period_5.png\")"
   ]
  },
  {
   "cell_type": "markdown",
   "metadata": {},
   "source": [
    "# Check multiple results with the same end date\n",
    "\n",
    "Check whether day are the same for different periods."
   ]
  },
  {
   "cell_type": "code",
   "execution_count": null,
   "metadata": {},
   "outputs": [],
   "source": [
    "starts = [date(1983,8,1), date(1989,5,1), date(1991,3,1), date(2003,10,1), date(2008,1,1), date(2020,11,1)]\n",
    "end = (date(2024,8,31))\n",
    "\n",
    "\n",
    "for start in starts:\n",
    "    fig = plot_total_worth(\n",
    "        df=df,\n",
    "        invest_amount=10,\n",
    "        period=(start, end),\n",
    "        title=\"Saving plan with 10$\"\n",
    "    )\n",
    "    fig.show()\n",
    "    fig.write_image(f\"assets/same_end_with_{start}.png\")\n"
   ]
  },
  {
   "cell_type": "markdown",
   "metadata": {},
   "source": [
    "All results seem to be the same."
   ]
  },
  {
   "cell_type": "markdown",
   "metadata": {},
   "source": [
    "# Evaluating all possible scenarios with one fix end date"
   ]
  },
  {
   "cell_type": "code",
   "execution_count": 19,
   "metadata": {},
   "outputs": [],
   "source": [
    "from tqdm import tqdm\n",
    "\n",
    "end = date(2024, 8, 31)\n",
    "\n",
    "starts = []\n",
    "\n",
    "for y in range(1972, 2024):\n",
    "    for m in range(1, 13):\n",
    "        starts.append(date(y, m, 1))\n",
    "\n",
    "\n",
    "def plot_all_with_same_end(starts):\n",
    "    \"\"\"Plot all saving plans with the same end date but different start dates\"\"\"\n",
    "\n",
    "    fig = go.Figure()\n",
    "\n",
    "    # iterate over all possible start dates\n",
    "    for start in tqdm(starts):\n",
    "        data = []\n",
    "        for day in range(1, 32):\n",
    "\n",
    "            saving_plan = SavingPlan(\n",
    "                df=df, invest_amount=10, day_to_invest=day, period=(start, end)\n",
    "            )\n",
    "            data.append(saving_plan.total_worth)\n",
    "\n",
    "        data = np.array(data)\n",
    "        data = data / np.max(data)\n",
    "\n",
    "        fig.add_trace(\n",
    "            go.Scatter(\n",
    "                x=list(range(1, 32)),\n",
    "                y=data,\n",
    "                mode=\"lines\",\n",
    "                name=\"Mean\",\n",
    "                line_color=\"gray\",\n",
    "                opacity=0.3,\n",
    "            )\n",
    "        )\n",
    "\n",
    "        fig.update_xaxes(tickvals=list(range(1, 32)), title=\"Day of the month\")\n",
    "        fig.update_yaxes(title=\"Normalized total worth\")\n",
    "        fig.update_layout(\n",
    "            title=f\"Saving plan starting with all possible starts<br>but with the same end\",\n",
    "            height=500,\n",
    "            width=1000,\n",
    "            showlegend=False,\n",
    "        )\n",
    "\n",
    "        data = []\n",
    "\n",
    "    return fig"
   ]
  },
  {
   "cell_type": "code",
   "execution_count": null,
   "metadata": {},
   "outputs": [],
   "source": [
    "fig = plot_all_with_same_end(starts)"
   ]
  },
  {
   "cell_type": "code",
   "execution_count": null,
   "metadata": {},
   "outputs": [],
   "source": [
    "fig.update_layout(width=1000, height=500).show(renderer=\"svg\")"
   ]
  },
  {
   "cell_type": "code",
   "execution_count": 50,
   "metadata": {},
   "outputs": [],
   "source": [
    "fig.write_image(\"assets/saving_plan_same_end_all.png\")"
   ]
  },
  {
   "cell_type": "markdown",
   "metadata": {},
   "source": [
    "# Compare two different saving plans with the same time period\n",
    "\n",
    "\n",
    "Using the best day and the worst day"
   ]
  },
  {
   "cell_type": "code",
   "execution_count": 22,
   "metadata": {},
   "outputs": [],
   "source": [
    "saving_plan_a = SavingPlan(\n",
    "    df=df, invest_amount=10, day_to_invest=5, period=(date(1972,1,1), date(2024,8,31)\n",
    "    )\n",
    ")\n",
    "\n",
    "saving_plan_b = SavingPlan(\n",
    "    df=df, invest_amount=10, day_to_invest=30, period=(date(1972,1,1), date(2024,8,31)\n",
    "    )\n",
    ")"
   ]
  },
  {
   "cell_type": "code",
   "execution_count": 23,
   "metadata": {},
   "outputs": [],
   "source": [
    "fig = go.Figure()\n",
    "\n",
    "fig.add_trace(\n",
    "    go.Scatter(\n",
    "        x=saving_plan_a.result_df.collect()[\"Date\"].dt.date(),\n",
    "        y=saving_plan_a.result_df.collect()[\"total_worth\"],\n",
    "        mode=\"lines+markers\",\n",
    "        name=\"Day 5\",\n",
    "    )\n",
    ")\n",
    "\n",
    "fig.add_trace(\n",
    "    go.Scatter(\n",
    "        x=saving_plan_b.result_df.collect()[\"Date\"].dt.date(),\n",
    "        y=saving_plan_b.result_df.collect()[\"total_worth\"],\n",
    "        mode=\"lines+markers\",\n",
    "        name=\"Day 30\",\n",
    "    )\n",
    ")\n",
    "\n",
    "fig.update_layout(\n",
    "    title=\"Saving plan with 10💵<br>Day 5 vs Day 30\", \n",
    "    height=500,\n",
    "    width=1000,\n",
    "    xaxis_title=\"Date\", \n",
    "    yaxis_title=\"Total worth\")\n",
    "\n",
    "# set the x and y range\n",
    "fig\n",
    "\n",
    "\n",
    "fig.write_image(\"assets/saving_plan_day_5_vs_30.png\")\n",
    "(fig\n",
    " .update_xaxes(range=[\"2019-05-01\", \"2023-05-01\"])\n",
    " .update_yaxes(range=[30000, 60000])\n",
    " .write_image(\"assets/saving_plan_day_5_vs_30_zoomed.png\"))"
   ]
  },
  {
   "cell_type": "code",
   "execution_count": null,
   "metadata": {},
   "outputs": [],
   "source": [
    "fig"
   ]
  },
  {
   "cell_type": "markdown",
   "metadata": {},
   "source": [
    "The difference the two days is rather small."
   ]
  },
  {
   "cell_type": "code",
   "execution_count": 25,
   "metadata": {},
   "outputs": [],
   "source": [
    "diff = saving_plan_a.result_df.collect()[\"total_worth\"] - saving_plan_b.result_df.collect()[\"total_worth\"]\n",
    "\n",
    "diff_pct = diff / saving_plan_b.result_df.collect()[\"total_worth\"] * 100"
   ]
  },
  {
   "cell_type": "markdown",
   "metadata": {},
   "source": [
    "PLotting the distribution of the differences between day 5 and day 30"
   ]
  },
  {
   "cell_type": "code",
   "execution_count": 26,
   "metadata": {},
   "outputs": [],
   "source": [
    "fig = go.Figure()\n",
    "\n",
    "fig.add_trace(\n",
    "    go.Histogram(\n",
    "        x=diff_pct,\n",
    "        histnorm=\"percent\",\n",
    "        nbinsx=50,\n",
    "    ))\n",
    "\n",
    "fig.update_layout(\n",
    "    title=\"Difference between day 5 and day 30\",\n",
    "    xaxis_title=\"Difference\",\n",
    "    yaxis_title=\"percent\",\n",
    "    height=500,\n",
    "    width=1000\n",
    ")\n",
    "\n",
    "# median = np.median(diff_pct)\n",
    "# fig.add_vline(x=median, line_dash=\"dash\", line_color=\"red\", annotation_text=f\"Median: {median:.2f}%\")\n",
    "\n",
    "mean = np.mean(diff_pct.to_numpy())\n",
    "fig.add_vline(x=mean, line_dash=\"dash\", line_color=\"yellow\", annotation_text=f\"Mean: {mean:.2f}%\")\n",
    "\n",
    "fig.write_image(\"assets/saving_plan_day_5_vs_30_diff_dist.png\")"
   ]
  },
  {
   "cell_type": "markdown",
   "metadata": {},
   "source": [
    "# Differences between cheapest and most expensive day to invest"
   ]
  },
  {
   "cell_type": "code",
   "execution_count": 27,
   "metadata": {},
   "outputs": [],
   "source": [
    "agg_df = (\n",
    "    df\n",
    "    .group_by(\n",
    "        pl.col(\"Date\").dt.year().alias(\"year\"),\n",
    "        pl.col(\"Date\").dt.month().alias(\"month\")\n",
    "    ).agg(\n",
    "        pl.min(\"Close\").alias(\"min_close\"),\n",
    "        pl.max(\"Close\").alias(\"max_close\"),\n",
    "    ).with_columns(\n",
    "        ((pl.col(\"max_close\") - pl.col(\"min_close\")) / pl.col(\"min_close\") * 100).alias(\"diff_pct\")\n",
    "    )\n",
    ")"
   ]
  },
  {
   "cell_type": "code",
   "execution_count": 28,
   "metadata": {},
   "outputs": [],
   "source": [
    "diff_pct = agg_df.collect()[\"diff_pct\"]"
   ]
  },
  {
   "cell_type": "code",
   "execution_count": 29,
   "metadata": {},
   "outputs": [],
   "source": [
    "fig = go.Figure()\n",
    "\n",
    "fig.add_trace(\n",
    "    go.Histogram(\n",
    "        x=diff_pct,\n",
    "        histnorm=\"percent\",\n",
    "        nbinsx=50,\n",
    "    )\n",
    ")\n",
    "\n",
    "fig.update_layout(\n",
    "    title=\"Monthly differences\",\n",
    "    xaxis_title=\"Difference %\",\n",
    "    yaxis_title=\"percent\",\n",
    "    height=500,\n",
    "    width=1000,\n",
    ")\n",
    "\n",
    "# add median\n",
    "median = np.median(diff_pct)\n",
    "\n",
    "fig.add_vline(\n",
    "    x=median,\n",
    "    line_dash=\"dash\",\n",
    "    line_color=\"red\",\n",
    "    annotation_text=f\"Median: {median:.2f}%\",\n",
    "    annotation_position=\"right\",\n",
    ")\n",
    "\n",
    "# q1\n",
    "q1 = np.percentile(diff_pct, 25)\n",
    "fig.add_vline(\n",
    "    x=q1, line_dash=\"dash\", line_color=\"yellow\", annotation_text=f\"Q1: {q1:.2f}%\", annotation_position=\"top left\"\n",
    ")\n",
    "\n",
    "# q3\n",
    "q3 = np.percentile(diff_pct, 75)\n",
    "fig.add_vline(\n",
    "    x=q3,\n",
    "    line_dash=\"dash\",\n",
    "    line_color=\"yellow\",\n",
    "    annotation_text=f\"Q3: {q3:.2f}%\",\n",
    "    annotation_position=\"top right\",\n",
    ")\n",
    "\n",
    "fig.write_image(\"assets/monthly_diff_dist.png\")"
   ]
  },
  {
   "cell_type": "code",
   "execution_count": null,
   "metadata": {},
   "outputs": [],
   "source": [
    "fig.show()"
   ]
  },
  {
   "cell_type": "markdown",
   "metadata": {},
   "source": [
    "# Day rankings"
   ]
  },
  {
   "cell_type": "markdown",
   "metadata": {},
   "source": [
    "Create dataframe with all possible starting dates"
   ]
  },
  {
   "cell_type": "code",
   "execution_count": 31,
   "metadata": {},
   "outputs": [],
   "source": [
    "result_dataframes = []\n",
    "\n",
    "for i in range(1, 32):\n",
    "    saving_plan = SavingPlan(df, 10, i, (datetime.date(1971, 12, 31), datetime.date(2020, 3, 31)))\n",
    "    result_dataframes.append(saving_plan.result_df)\n",
    "\n",
    "result_df = pl.concat(result_dataframes).sort(\"Date\", \"day_to_invest\")"
   ]
  },
  {
   "cell_type": "code",
   "execution_count": null,
   "metadata": {},
   "outputs": [],
   "source": [
    "result_df.head().collect(\n",
    ")"
   ]
  },
  {
   "cell_type": "markdown",
   "metadata": {},
   "source": [
    "## Creating rank dataframe"
   ]
  },
  {
   "cell_type": "code",
   "execution_count": 33,
   "metadata": {},
   "outputs": [],
   "source": [
    "pl.Config.set_tbl_rows(60)\n",
    "\n",
    "w = (pl.col(\"Date\").dt.year().alias(\"year\"), pl.col(\"Date\").dt.month().alias(\"month\"))\n",
    "\n",
    "rank_df = result_df.with_columns(rank=pl.col(\"Close\").rank(method=\"dense\").over(w)).sort([\"Date\", \"day_to_invest\"]) #  .collect()"
   ]
  },
  {
   "cell_type": "code",
   "execution_count": null,
   "metadata": {},
   "outputs": [],
   "source": [
    "rank_df.head().collect()"
   ]
  },
  {
   "cell_type": "markdown",
   "metadata": {},
   "source": [
    "I go with the dense ranking method, which assigns the same rank to the same values, but the next value will have a rank that is the next number after the previous rank. "
   ]
  },
  {
   "cell_type": "code",
   "execution_count": null,
   "metadata": {},
   "outputs": [],
   "source": [
    "\n",
    "\n",
    "agg_df = rank_df.group_by(pl.col(\"day_to_invest\")).agg(\n",
    "    # pl.quantile(\"rank\", 0.5).alias(\"total_rank\"),\n",
    "    pl.mean(\"rank\").alias(\"total_rank\"), \n",
    ").sort(\"day_to_invest\").collect()\n",
    "\n",
    "fig = px.line(agg_df, x=\"day_to_invest\", y=\"total_rank\", markers=True)\n",
    "\n",
    "# tickvals for all days\n",
    "fig.update_xaxes(tickvals=list(range(1, 32)))"
   ]
  },
  {
   "cell_type": "markdown",
   "metadata": {},
   "source": [
    "## Get distribution of the ranks for the first day\n",
    "\n",
    "using the sum of the ranks, the best day was the first day. To get better insight, we can get the distribution of the first day.\n"
   ]
  },
  {
   "cell_type": "code",
   "execution_count": null,
   "metadata": {},
   "outputs": [],
   "source": [
    "day_1_rank_dist = (\n",
    "    rank_df\n",
    "    .filter(pl.col(\"day_to_invest\") == 1)\n",
    "    .group_by(pl.col(\"rank\"))\n",
    "    .len()\n",
    "    ).collect()\n",
    "\n",
    "\n",
    "# day_1_rank_dist\n",
    "x, y = day_1_rank_dist[\"rank\"].to_list(), day_1_rank_dist[\"len\"].to_list()\n",
    "px.bar(x=x, y=y)"
   ]
  },
  {
   "cell_type": "markdown",
   "metadata": {},
   "source": [
    "## Get distribution of the ranks for the second day"
   ]
  },
  {
   "cell_type": "code",
   "execution_count": null,
   "metadata": {},
   "outputs": [],
   "source": [
    "day_2_rank_dist = (\n",
    "    rank_df\n",
    "    .filter(pl.col(\"day_to_invest\") == 2)\n",
    "    .group_by(pl.col(\"rank\"))\n",
    "    .len()#\n",
    "    ).collect()\n",
    "\n",
    "\n",
    "# day_2_rank_dist\n",
    "x, y = day_2_rank_dist[\"rank\"].to_list(), day_2_rank_dist[\"len\"].to_list()\n",
    "px.bar(x=x, y=y)"
   ]
  },
  {
   "cell_type": "markdown",
   "metadata": {},
   "source": [
    "## Get distribution of ranks for 31th day"
   ]
  },
  {
   "cell_type": "code",
   "execution_count": null,
   "metadata": {},
   "outputs": [],
   "source": [
    "day_31_rank_dist = (\n",
    "    rank_df\n",
    "    .filter(pl.col(\"day_to_invest\") == 31)\n",
    "    .group_by(pl.col(\"rank\"))\n",
    "    .agg(\n",
    "        pl.len().alias(\"len\"),\n",
    "    ).with_columns(pct=pl.col(\"len\") / pl.sum(\"len\")\n",
    "    ).collect())#\n",
    "\n",
    "# day_31_rank_dist\n",
    "px.bar(day_31_rank_dist, x=\"rank\", y=\"pct\",)"
   ]
  },
  {
   "cell_type": "markdown",
   "metadata": {},
   "source": [
    "# Get distribution of the rank for the 15th day"
   ]
  },
  {
   "cell_type": "code",
   "execution_count": null,
   "metadata": {},
   "outputs": [],
   "source": [
    "day_15_rank_dist = (\n",
    "    rank_df\n",
    "    .filter(pl.col(\"day_to_invest\") == 15)\n",
    "    .group_by(pl.col(\"rank\"))\n",
    "    .agg(\n",
    "        pl.len().alias(\"len\"),\n",
    "    ).with_columns(pct=pl.col(\"len\") / pl.sum(\"len\")\n",
    "    ).collect())\n",
    "\n",
    "\n",
    "# day_15_rank_dist\n",
    "px.bar(day_15_rank_dist, x=\"rank\", y=\"pct\",)"
   ]
  },
  {
   "cell_type": "code",
   "execution_count": null,
   "metadata": {},
   "outputs": [],
   "source": [
    "# creating Overlapping densities (‘ridge plot’) from day 1 to day 31 with seaborn\n",
    "import seaborn as sns\n",
    "import matplotlib.pyplot as plt\n",
    "plt.style.use(\"dark_background\")\n",
    "# sns.set_theme(style=\"dark\", rc={\"axes.facecolor\": (0, 0, 0, 0)})\n",
    "# Set the theme with a dark background\n",
    "sns.set_theme(style=\"dark\", rc={\n",
    "    \"axes.facecolor\": (0, 0, 0, 0),  # Black background for axes\n",
    "    \"figure.facecolor\": (0, 0, 0, 1),  # Black background for figure\n",
    "    \"axes.labelcolor\": \"white\",  # White labels\n",
    "    \"xtick.color\": \"white\",  # White x-tick labels\n",
    "    \"ytick.color\": \"white\",  # White y-tick labels\n",
    "    \"text.color\": \"white\",  # White text\n",
    "    \"grid.color\": \"white\",  # White grid\n",
    "    \"axes.grid\": True,\n",
    "    \"grid.alpha\": 0.2,\n",
    "})\n",
    "\n",
    "\n",
    "# Initialize the FacetGrid object\n",
    "pal = sns.cubehelix_palette(31, rot=-.1, light=.7, dark=.17)\n",
    "# pal = sns.color_palette(\"cividis\", 10)\n",
    "g = sns.FacetGrid(rank_df.collect().to_pandas(), row=\"day_to_invest\", hue=\"day_to_invest\", aspect=15, height=.5, palette=pal)\n",
    "\n",
    "# Draw the densities in a few steps\n",
    "g.map(sns.kdeplot, \"rank\",\n",
    "      bw_adjust=.5, clip_on=False,\n",
    "      fill=True, alpha=1, linewidth=1.5)\n",
    "\n",
    "g.map(sns.kdeplot, \"rank\", clip_on=False, color=\"w\", lw=2, bw_adjust=.5)\n",
    "\n",
    "# passing color=None to refline() uses the hue mapping\n",
    "g.refline(y=0, linewidth=2, linestyle=\"-\", color=None, clip_on=False)\n",
    "\n",
    "\n",
    "# Define and use a simple function to label the plot in axes coordinates\n",
    "def label(x, color, label):\n",
    "    ax = plt.gca()\n",
    "    ax.text(0, .2, label, fontweight=\"bold\", color=color,\n",
    "            ha=\"left\", va=\"center\", transform=ax.transAxes)\n",
    "\n",
    "\n",
    "g.map(label, \"rank\")\n",
    "\n",
    "# Set the subplots to overlap\n",
    "g.figure.subplots_adjust(hspace=-.55)\n",
    "\n",
    "# Remove axes details that don't play well with overlap\n",
    "g.set_titles(\"\")\n",
    "g.set(yticks=[], ylabel=\"\")\n",
    "g.despine(bottom=True, left=True)\n",
    "\n",
    "# set title for the figure\n",
    "g.figure.suptitle(\"Rank distribution for each day of the month\", fontsize=16, position=(0.5, 1.005))\n",
    "\n",
    "# add x ticks for all ranks\n",
    "g.set(xticks=list(range(1, rank_df.collect().to_pandas()[\"rank\"].max() + 1)))\n"
   ]
  },
  {
   "cell_type": "code",
   "execution_count": null,
   "metadata": {},
   "outputs": [],
   "source": [
    "import seaborn as sns\n",
    "import matplotlib.pyplot as plt\n",
    "\n",
    "\n",
    "def create_ridge_plot(df, column, hue, title, palette=\"cubehelix\", text_color=\"white\"):\n",
    "    \"\"\"\n",
    "    Creates a ridge plot using seaborn's FacetGrid and kdeplot.\n",
    "\n",
    "    Parameters:\n",
    "    -----------\n",
    "        df (pd.DataFrame): The dataframe containing the data to plot.\n",
    "        column (str): The column name in the dataframe to plot.\n",
    "        hue (str): The column name in the dataframe to use for color encoding.\n",
    "        title (str): The title of the plot.\n",
    "        palette (str or list, optional): The color palette to use. Default is \"cubehelix\".\n",
    "        text_color (str, optional): The color of the text in the plot. Default is \"white\".\n",
    "\n",
    "    Returns\n",
    "    -------\n",
    "        sns.FacetGrid: The FacetGrid object containing the ridge plot.\n",
    "    \"\"\"\n",
    "    # Set the theme with a dark background\n",
    "    plt.style.use(\"dark_background\")\n",
    "\n",
    "    sns.set_theme(\n",
    "        style=\"dark\",\n",
    "        rc={\n",
    "            \"axes.facecolor\": (0, 0, 0, 0),  # Black background for axes\n",
    "            \"figure.facecolor\": (0, 0, 0, 1),  # Black background for figure\n",
    "            \"axes.labelcolor\": \"white\",  # White labels\n",
    "            \"xtick.color\": \"white\",  # White x-tick labels\n",
    "            \"ytick.color\": \"white\",  # White y-tick labels\n",
    "            \"text.color\": \"white\",  # White text\n",
    "            \"grid.color\": \"white\",  # White grid\n",
    "            \"axes.grid\": True,\n",
    "            \"grid.alpha\": 0.2,\n",
    "        },\n",
    "    )\n",
    "\n",
    "    # Initialize the FacetGrid object\n",
    "    if palette == \"cubehelix\":\n",
    "        pal = sns.cubehelix_palette(31, rot=-0.1, light=0.7, dark=0.17)\n",
    "    else:\n",
    "        pal = sns.color_palette(palette, 31)\n",
    "\n",
    "    g = sns.FacetGrid(df, row=hue, hue=hue, aspect=15, height=0.5, palette=pal)\n",
    "\n",
    "    # Draw the densities in a few steps\n",
    "    g.map(\n",
    "        sns.kdeplot,\n",
    "        column,\n",
    "        bw_adjust=0.5,\n",
    "        clip_on=False,\n",
    "        fill=True,\n",
    "        alpha=1,\n",
    "        linewidth=1.5,\n",
    "    )\n",
    "\n",
    "    g.map(sns.kdeplot, column, clip_on=False, color=\"w\", lw=2, bw_adjust=0.5)\n",
    "\n",
    "    # Passing color=None to refline() uses the hue mapping\n",
    "    g.refline(y=0, linewidth=2, linestyle=\"-\", color=None, clip_on=False)\n",
    "\n",
    "    # Define and use a simple function to label the plot in axes coordinates\n",
    "    def label(x, color, label):\n",
    "        ax = plt.gca()\n",
    "        ax.text(\n",
    "            0,\n",
    "            0.2,\n",
    "            label,\n",
    "            fontweight=\"bold\",\n",
    "            color=color,\n",
    "            ha=\"left\",\n",
    "            va=\"center\",\n",
    "            transform=ax.transAxes,\n",
    "        )\n",
    "\n",
    "    g.map(label, column)\n",
    "\n",
    "    # Set the subplots to overlap\n",
    "    g.figure.subplots_adjust(hspace=-0.55)\n",
    "\n",
    "    # Remove axes details that don't play well with overlap\n",
    "    g.set_titles(\"\")\n",
    "    g.set(yticks=[], ylabel=\"\")\n",
    "    g.despine(bottom=True, left=True)\n",
    "\n",
    "    # Set title for the figure\n",
    "    g.figure.suptitle(title, fontsize=16, color=text_color, position=(0.5, 1.005))\n",
    "\n",
    "    # Add x ticks for all ranks\n",
    "    g.set(xticks=list(range(1, df[column].max() + 1)))\n",
    "\n",
    "    return g\n",
    "\n",
    "\n",
    "# Example usage\n",
    "g = create_ridge_plot(\n",
    "    rank_df.collect().to_pandas(),\n",
    "    column=\"rank\",\n",
    "    hue=\"day_to_invest\",\n",
    "    title=\"Rank distribution for each day of the month\",\n",
    ")"
   ]
  },
  {
   "cell_type": "code",
   "execution_count": 45,
   "metadata": {},
   "outputs": [],
   "source": [
    "g.savefig(\"assets/rank_distribution_all_day.png\")"
   ]
  },
  {
   "cell_type": "markdown",
   "metadata": {},
   "source": [
    "## Rank statistics\n",
    "Generic statistics for the ranks."
   ]
  },
  {
   "cell_type": "code",
   "execution_count": null,
   "metadata": {},
   "outputs": [],
   "source": [
    "rank_df.select(\"day_to_invest\", \"rank\").collect().to_pandas().groupby(\"day_to_invest\")[\"rank\"].describe()"
   ]
  },
  {
   "cell_type": "code",
   "execution_count": null,
   "metadata": {},
   "outputs": [],
   "source": []
  }
 ],
 "metadata": {
  "kernelspec": {
   "display_name": ".venv",
   "language": "python",
   "name": "python3"
  },
  "language_info": {
   "codemirror_mode": {
    "name": "ipython",
    "version": 3
   },
   "file_extension": ".py",
   "mimetype": "text/x-python",
   "name": "python",
   "nbconvert_exporter": "python",
   "pygments_lexer": "ipython3",
   "version": "3.10.15"
  }
 },
 "nbformat": 4,
 "nbformat_minor": 2
}
