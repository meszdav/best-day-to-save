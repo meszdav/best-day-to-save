{
 "cells": [
  {
   "cell_type": "code",
   "execution_count": 405,
   "metadata": {},
   "outputs": [],
   "source": [
    "import numpy as np\n",
    "import datetime\n",
    "\n",
    "\n",
    "def encode_date(date: datetime.date) -> int:\n",
    "    return date.year * 10000 + date.month * 100 + date.day\n",
    "\n",
    "\n",
    "def generate_day_ints(dates: np.ndarray, day: np.ndarray) -> np.ndarray:\n",
    "    \"\"\"Generate the day ints from the dates.\"\"\"\n",
    "\n",
    "\n",
    "    date_year = dates.astype(\"datetime64[Y]\").astype(int) + 1970\n",
    "    date_month = dates.astype(\"datetime64[M]\").astype(int) % 12 + 1\n",
    "\n",
    "    new_dates = np.unique(np.c_[date_year, date_month], axis=0)\n",
    "    for year, month in new_dates:\n",
    "            try:\n",
    "                date = encode_date(datetime.date(year, month, day))\n",
    "            except ValueError:\n",
    "                date = int(year * 10000 + month * 100 + day)\n",
    "            yield date"
   ]
  },
  {
   "cell_type": "code",
   "execution_count": 396,
   "metadata": {},
   "outputs": [],
   "source": [
    "import pandas as pd\n",
    "\n",
    "# generate date range with only working days\n",
    "date_rng = pd.date_range(start='4/15/2018', end='11/17/2018', freq='B')\n",
    "decoded_date_rng = np.vectorize(encode_date)(date_rng.to_pydatetime())"
   ]
  },
  {
   "cell_type": "code",
   "execution_count": 397,
   "metadata": {},
   "outputs": [],
   "source": [
    "\n",
    "date_year = date_rng.to_numpy().astype(\"datetime64[Y]\").astype(int) + 1970\n",
    "date_month = date_rng.to_numpy().astype(\"datetime64[M]\").astype(int) % 12 + 1\n",
    "\n",
    "new_dates = np.c_[date_year, date_month]"
   ]
  },
  {
   "cell_type": "code",
   "execution_count": 400,
   "metadata": {},
   "outputs": [],
   "source": [
    "# remove duplicates from the new_dates\n",
    "new_dates = np.unique(new_dates, axis=0)\n",
    "\n"
   ]
  },
  {
   "cell_type": "code",
   "execution_count": 402,
   "metadata": {},
   "outputs": [],
   "source": [
    "# split date range into month, each array is a month\n",
    "date_rng_split = np.split(decoded_date_rng, np.where(np.diff(date_rng.to_numpy().astype('datetime64[M]')))[0]+1)"
   ]
  },
  {
   "cell_type": "code",
   "execution_count": 406,
   "metadata": {},
   "outputs": [],
   "source": [
    "target_dates = np.array(list(generate_day_ints(date_rng.to_numpy(), 31)))"
   ]
  },
  {
   "cell_type": "code",
   "execution_count": 407,
   "metadata": {},
   "outputs": [
    {
     "data": {
      "text/plain": [
       "array([20180431, 20180531, 20180631, 20180731, 20180831, 20180931,\n",
       "       20181031, 20181131])"
      ]
     },
     "execution_count": 407,
     "metadata": {},
     "output_type": "execute_result"
    }
   ],
   "source": [
    "target_dates"
   ]
  },
  {
   "cell_type": "code",
   "execution_count": 326,
   "metadata": {},
   "outputs": [
    {
     "data": {
      "text/plain": [
       "True"
      ]
     },
     "execution_count": 326,
     "metadata": {},
     "output_type": "execute_result"
    }
   ],
   "source": [
    "len(target_dates) == len(date_rng_split) # True"
   ]
  },
  {
   "cell_type": "code",
   "execution_count": 327,
   "metadata": {},
   "outputs": [
    {
     "data": {
      "text/plain": [
       "array([20180416, 20180417, 20180418, 20180419, 20180420, 20180423,\n",
       "       20180424, 20180425, 20180426, 20180427, 20180430])"
      ]
     },
     "execution_count": 327,
     "metadata": {},
     "output_type": "execute_result"
    }
   ],
   "source": [
    "date_rng_split[0]"
   ]
  },
  {
   "cell_type": "code",
   "execution_count": 315,
   "metadata": {},
   "outputs": [],
   "source": [
    "day_to_invest = []\n",
    "\n",
    "glob_min = np.min(decoded_date_rng)\n",
    "glob_max = np.max(decoded_date_rng)\n",
    "\n",
    "for dates_of_month, target_day in zip(date_rng_split, target_dates):\n",
    "\n",
    "    if target_day < glob_min or target_day > glob_max:\n",
    "        pass\n",
    "    else:\n",
    "        idx = np.searchsorted(dates_of_month, target_day, side='left')\n",
    "        if np.max(idx) < len(dates_of_month):\n",
    "            day_to_invest.append(dates_of_month[idx])\n",
    "        else:\n",
    "            day_to_invest.append(dates_of_month[-1])"
   ]
  },
  {
   "cell_type": "code",
   "execution_count": 316,
   "metadata": {},
   "outputs": [
    {
     "data": {
      "text/plain": [
       "[np.int64(20180131),\n",
       " np.int64(20180228),\n",
       " np.int64(20180330),\n",
       " np.int64(20180430),\n",
       " np.int64(20180531),\n",
       " np.int64(20180629),\n",
       " np.int64(20180731),\n",
       " np.int64(20180831),\n",
       " np.int64(20180928),\n",
       " np.int64(20181031),\n",
       " np.int64(20181130)]"
      ]
     },
     "execution_count": 316,
     "metadata": {},
     "output_type": "execute_result"
    }
   ],
   "source": [
    "day_to_invest"
   ]
  },
  {
   "cell_type": "code",
   "execution_count": 310,
   "metadata": {},
   "outputs": [],
   "source": [
    "# find the indices where day_to_invest matches decoded_date_rng\n",
    "idx = np.searchsorted(decoded_date_rng, day_to_invest, side='left')"
   ]
  },
  {
   "cell_type": "code",
   "execution_count": 314,
   "metadata": {},
   "outputs": [
    {
     "data": {
      "text/plain": [
       "array([20180131, 20180228, 20180330, 20180430, 20180531, 20180629,\n",
       "       20180731, 20180831, 20180928, 20181031, 20181130])"
      ]
     },
     "execution_count": 314,
     "metadata": {},
     "output_type": "execute_result"
    }
   ],
   "source": [
    "decoded_date_rng[idx]"
   ]
  },
  {
   "cell_type": "code",
   "execution_count": null,
   "metadata": {},
   "outputs": [],
   "source": []
  }
 ],
 "metadata": {
  "kernelspec": {
   "display_name": ".venv",
   "language": "python",
   "name": "python3"
  },
  "language_info": {
   "codemirror_mode": {
    "name": "ipython",
    "version": 3
   },
   "file_extension": ".py",
   "mimetype": "text/x-python",
   "name": "python",
   "nbconvert_exporter": "python",
   "pygments_lexer": "ipython3",
   "version": "3.10.9"
  }
 },
 "nbformat": 4,
 "nbformat_minor": 2
}
